{
 "cells": [
  {
   "cell_type": "code",
   "execution_count": 1,
   "id": "1c21cfdd",
   "metadata": {},
   "outputs": [],
   "source": [
    "import numpy as np\n",
    "import matplotlib.pyplot as plt"
   ]
  },
  {
   "cell_type": "code",
   "execution_count": 2,
   "id": "6f97df3a",
   "metadata": {},
   "outputs": [],
   "source": [
    "# Define NASA polynomial cofficients\n",
    "nasa_dict = {\n",
    "    \"H\" : {\"low\" : [0.000000000E+00, 0.000000000E+00, 2.500000000E+00, 0.000000000E+00, 0.000000000E+00, \n",
    "0.000000000E+00, 0.000000000E+00, 2.547370801E+04, -4.466828530E-01],\n",
    "           \"high\" : [6.078774250E+01, -1.819354417E-01, 2.500211817E+00, -1.226512864E-07, 3.732876330E-11,\n",
    "-5.687744560E-15, 3.410210197E-19, 2.547486398E+04, -4.481917770E-01]},\n",
    "    \"H2\" : {\"low\" : [4.078323210E+04, -8.009186040E+02, 8.214702010E+00, -1.269714457E-02, 1.753605076E-05,\n",
    "-1.202860270E-08, 3.368093490E-12, 2.682484665E+03, -3.043788844E+01],\n",
    "            \"high\" : [5.608128010E+05, -8.371504740E+02, 2.975364532E+00, 1.252249124E-03, -3.740716190E-07,\n",
    " 5.936625200E-11, -3.606994100E-15, 5.339824410E+03, -2.202774769E+00]}\n",
    "}\n",
    "\n",
    "R = 8.314\n",
    "kb = 1.380649e-23"
   ]
  },
  {
   "cell_type": "code",
   "execution_count": 68,
   "id": "53f70eb4",
   "metadata": {},
   "outputs": [],
   "source": [
    "def nasa_polynomials(species, t):\n",
    "    if t > 1000.:\n",
    "        trange = \"high\"\n",
    "    else:\n",
    "        trange = \"low\"\n",
    "        \n",
    "    return nasa_dict[species][trange] \n",
    "\n",
    "def chemical_potential_rt(species, t):\n",
    "    \"\"\"\n",
    "    Chemical potential for species at temperature T\n",
    "    divided by RT\n",
    "    \"\"\"\n",
    "    \n",
    "    p = nasa_polynomials(species, t)\n",
    "\n",
    "    mu = -p[0]*(t**-2)/2. + p[1]*(1.+np.log(t))/t +  \\\n",
    "    p[2]*(1.-np.log(t)) - p[3]*t/2. - p[4]*t**2/6. - \\\n",
    "    p[5]*t**3/12. - p[6]*t**4/20. + p[7]/t - p[8]\n",
    "    \n",
    "    return mu\n",
    "\n",
    "def forward_rate(temperature, M):\n",
    "    \"\"\"\n",
    "    Forward rate of reaction H + H + M -> H2 + M\n",
    "    \"\"\"\n",
    "    \n",
    "    k0 = 2.7e-31*temperature**-0.6\n",
    "    kinf = 3.31e-6*temperature**-0.6\n",
    "    \n",
    "    kf = k0*M/(1.+(k0*M/kinf))\n",
    "    \n",
    "    return kf\n",
    "\n",
    "def reverse_rate(temperature, M):\n",
    "    \"\"\"\n",
    "    Reverse rate of reaction H + H + M -> H2 + M\n",
    "    \"\"\"\n",
    "    \n",
    "    gibbs_reaction_rt = gibbs_energy_of_reaction_rt(temperature)\n",
    "    kf = forward_rate(temperature, M)\n",
    "    \n",
    "    kr = kf*(kb*temperature)**(-1)/np.exp(-gibbs_reaction_rt)\n",
    "    \n",
    "    return kr\n",
    "\n",
    "    \n",
    "def gibbs_energy_of_reaction_rt(temperature):\n",
    "    \"\"\"\n",
    "    Gibbs energy of reaction for H + H -> H2\n",
    "    \"\"\"\n",
    "    \n",
    "    muh2 = chemical_potential_rt(\"H2\", temperature)\n",
    "    muh = chemical_potential_rt(\"H\", temperature)\n",
    "    \n",
    "    gibbs_reaction_rt = muh2 - muh - muh\n",
    "    \n",
    "    return gibbs_reaction_rt"
   ]
  },
  {
   "cell_type": "code",
   "execution_count": 71,
   "id": "3b45253e",
   "metadata": {},
   "outputs": [],
   "source": [
    "pressure = 1e4 # Pa\n",
    "temperature = 3200. # K\n",
    "number_density = pressure/kb/temperature/100**3 # cm-3\n",
    "\n",
    "J = 0.\n",
    "nhtot = 2.*number_density\n",
    "\n",
    "\n",
    "tol = 1e-2\n",
    "\n",
    "NSTEPS = 50000\n",
    "\n",
    "DTINT = 1e-20 # s\n",
    "DTMAX = 1e1 # s"
   ]
  },
  {
   "cell_type": "code",
   "execution_count": 72,
   "id": "65bc904c",
   "metadata": {},
   "outputs": [
    {
     "name": "stdout",
     "output_type": "stream",
     "text": [
      "4.819927526619779e-16 864.0567063150787\n",
      "3.902038941939089e+17 2.263428286262475e+17 0.15432530445838663 0.8456746955416133\n"
     ]
    },
    {
     "data": {
      "image/png": "[encoded data removed]",
      "text/plain": [
       "<Figure size 432x288 with 1 Axes>"
      ]
     },
     "metadata": {
      "needs_background": "light"
     },
     "output_type": "display_data"
    }
   ],
   "source": [
    "nh = np.zeros(NSTEPS)\n",
    "nh2 = np.zeros(NSTEPS)\n",
    "time = np.zeros(NSTEPS)\n",
    "\n",
    "dt = DTINT\n",
    "\n",
    "kf = forward_rate(temperature, number_density)\n",
    "kr = reverse_rate(temperature, number_density)\n",
    "print(kf, kr)\n",
    "\n",
    "nh2[0] = 0.99*number_density\n",
    "nh[0] = 0.01*number_density\n",
    "\n",
    "for i in range(1,NSTEPS):\n",
    "    nh2[i] = dt*(-J*nh2[i-1] + kf*nh[i-1]*nh[i-1] - kr*nh2[i-1]) + nh2[i-1]\n",
    "    nh[i] = dt*(2*J*nh2[i-1] + 2*kr*nh2[i-1] - 2*kf*nh[i-1]*nh[i-1]) + nh[i-1]\n",
    "    time[i] = time[i-1] + dt\n",
    "    \n",
    "    if nh2[i-1] > 0.:\n",
    "        dnh2 = abs((nh2[i] - nh2[i-1])/nh2[i-1])\n",
    "    if nh[i-1] > 0.:\n",
    "        dnh = abs((nh[i] - nh[i-1])/nh[i-1])\n",
    "    dn = max(dnh2, dnh)\n",
    "\n",
    "    # Timestep control\n",
    "    if dn > tol:\n",
    "        dt = dt*0.1\n",
    "    else:\n",
    "        dt = dt*1.5\n",
    "    if dt > DTMAX:\n",
    "        dt = DTMAX\n",
    "        \n",
    "    #print(dn, dt)\n",
    "\n",
    "print(nh2[-1]+nh[-1], number_density, nh2[-1]/(nh2[-1]+nh[-1]), nh[-1]/(nh2[-1]+nh[-1]))\n",
    "plt.plot(time, nh2/(nh2+nh))\n",
    "plt.plot(time, nh/(nh2+nh))\n",
    "plt.yscale('log')\n",
    "plt.xscale('log')\n",
    "\n",
    "\n"
   ]
  },
  {
   "cell_type": "code",
   "execution_count": null,
   "id": "748475f1",
   "metadata": {},
   "outputs": [],
   "source": []
  },
  {
   "cell_type": "code",
   "execution_count": null,
   "id": "d9e18a71",
   "metadata": {},
   "outputs": [],
   "source": [
    "# Heated box\n",
    "P = 100 # Pa\n",
    "R = 8.314 \n",
    "V = 1. #m3\n",
    "A = 1. #m2\n",
    "mu = 1.5e-3 #kg/mol\n",
    "cp = 15e3 # J/kg/K\n",
    "sigma = 5.670374419e-8\n",
    "H = 0.#5000. # W/m2\n",
    "\n",
    "Tinit = 1000.\n",
    "\n",
    "T = np.zeros(NSTEPS)\n",
    "time =np.zeros(NSTEPS)\n",
    "T[0] = Tinit\n",
    "timestep = 100.\n",
    "for i in range(1,NSTEPS):\n",
    "    T[i] = timestep*(P*V/(R*T[i-1])*mu*A/cp*(H-sigma*T[i-1]**4)) + T[i-1]\n",
    "    \n",
    "    time[i] = time[i-1] + timestep\n",
    "    \n",
    "    dT = abs((T[i] - T[i-1])/timestep)\n",
    "    \n",
    "    \n",
    "    if dT > tol:\n",
    "        timestep = timestep*0.1\n",
    "    else:\n",
    "        timestep = timestep * 1.1\n",
    "    if timestep > 1e5:\n",
    "        timestep = 1e5\n",
    "\n",
    "plt.plot(time, T)"
   ]
  },
  {
   "cell_type": "code",
   "execution_count": null,
   "id": "6bf9ca48",
   "metadata": {},
   "outputs": [],
   "source": []
  }
 ],
 "metadata": {
  "kernelspec": {
   "display_name": "Python 3 (ipykernel)",
   "language": "python",
   "name": "python3"
  },
  "language_info": {
   "codemirror_mode": {
    "name": "ipython",
    "version": 3
   },
   "file_extension": ".py",
   "mimetype": "text/x-python",
   "name": "python",
   "nbconvert_exporter": "python",
   "pygments_lexer": "ipython3",
   "version": "3.8.13"
  }
 },
 "nbformat": 4,
 "nbformat_minor": 5
}
